{
 "cells": [
  {
   "cell_type": "markdown",
   "metadata": {
    "id": "d00N2A6argTs"
   },
   "source": [
    "##Cardiac vs. respiratory classification"
   ]
  },
  {
   "cell_type": "markdown",
   "metadata": {
    "id": "w3AVN3due6s0"
   },
   "source": [
    "**Goal:** build a binary classifier based a few spectral domain features derived from the exploratory dana analysis."
   ]
  },
  {
   "cell_type": "markdown",
   "metadata": {
    "id": "Hpq3vi0Vr20d"
   },
   "source": [
    "**Import libraries**"
   ]
  },
  {
   "cell_type": "code",
   "execution_count": null,
   "metadata": {
    "id": "cjG89TTLre9V"
   },
   "outputs": [],
   "source": [
    "import os\n",
    "import matplotlib.pyplot as plt\n",
    "import numpy as np\n",
    "import pandas as pd"
   ]
  },
  {
   "cell_type": "markdown",
   "metadata": {
    "id": "s_VnUO5Qp3gQ"
   },
   "source": [
    "**Download data from dropbox**"
   ]
  },
  {
   "cell_type": "code",
   "execution_count": null,
   "metadata": {
    "id": "Ye3r9EAon2-N"
   },
   "outputs": [],
   "source": [
    "!wget -O  annotations.csv \"https://www.dropbox.com/s/6wk6ajpvry9rd7z/annotations.csv?dl=0\" --quiet\n",
    "!wget -O  time_series.csv \"https://www.dropbox.com/s/vnvz27bxkcojq0n/time_series.csv?dl=0\" --quiet"
   ]
  },
  {
   "cell_type": "markdown",
   "metadata": {
    "id": "StXRwOl0qCjs"
   },
   "source": [
    "**Load data**"
   ]
  },
  {
   "cell_type": "code",
   "execution_count": null,
   "metadata": {
    "id": "yRiffqm-qE0m"
   },
   "outputs": [],
   "source": [
    "## os.listdir()  # to check data downloaded correctly\n",
    "df_annot = pd.read_csv('annotations.csv')\n",
    "df_ts = pd.read_csv('time_series.csv')"
   ]
  },
  {
   "cell_type": "markdown",
   "metadata": {
    "id": "U9UBWynnsP1e"
   },
   "source": [
    "**Compute frequency features**\n"
   ]
  },
  {
   "cell_type": "code",
   "execution_count": null,
   "metadata": {
    "id": "pV5SKf9VsY0A"
   },
   "outputs": [],
   "source": [
    "# Loop through all signals\n",
    "\n",
    "# (maybe) subtract the mean\n",
    "\n",
    "# Compute power spectral density\n",
    "\n",
    "# Compute 2 features: 25 percentile, 75 percentile\n",
    "\n",
    "# Scatterplot cardiac vs all respiratory (x,y = 2 features)\n"
   ]
  },
  {
   "cell_type": "markdown",
   "metadata": {
    "id": "b1UyWV63tXXH"
   },
   "source": [
    "**Logistic regression (binary)**"
   ]
  },
  {
   "cell_type": "code",
   "execution_count": null,
   "metadata": {
    "id": "Gq0kzirdtVuc"
   },
   "outputs": [],
   "source": [
    "# Get 2 features\n",
    "\n",
    "# Fit the model with cross-validation\n",
    "\n",
    "# Prediction accuracy\n"
   ]
  },
  {
   "cell_type": "markdown",
   "metadata": {
    "id": "EgPtvQDzuoSq"
   },
   "source": [
    "**Decision Tree**"
   ]
  },
  {
   "cell_type": "code",
   "execution_count": null,
   "metadata": {
    "id": "vobVu9oBurk3"
   },
   "outputs": [],
   "source": [
    "# Get 2 features\n",
    "\n",
    "# Fit tree\n"
   ]
  },
  {
   "cell_type": "markdown",
   "metadata": {
    "id": "uX6lFBApvb9Y"
   },
   "source": [
    "**Robust prediction (for production)**"
   ]
  },
  {
   "cell_type": "code",
   "execution_count": null,
   "metadata": {
    "id": "Hk30cD5xveur"
   },
   "outputs": [],
   "source": [
    "# Do not predict when p < 0.6 or other threshold\n",
    "\n",
    "# Outlier detection. When a new signal comes in: compare features respect to our feature space. If outlier --> fallback\n",
    "\n",
    "# Define fallback scenario"
   ]
  }
 ],
 "metadata": {
  "colab": {
   "name": "cardiac_respiratory.ipynb",
   "provenance": []
  },
  "kernelspec": {
   "display_name": "Python 3",
   "language": "python",
   "name": "python3"
  },
  "language_info": {
   "codemirror_mode": {
    "name": "ipython",
    "version": 3
   },
   "file_extension": ".py",
   "mimetype": "text/x-python",
   "name": "python",
   "nbconvert_exporter": "python",
   "pygments_lexer": "ipython3",
   "version": "3.7.4"
  }
 },
 "nbformat": 4,
 "nbformat_minor": 1
}
