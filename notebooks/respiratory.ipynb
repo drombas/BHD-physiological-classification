{
 "cells": [
  {
   "cell_type": "markdown",
   "metadata": {
    "id": "d00N2A6argTs"
   },
   "source": [
    "## Respiratory classification (chest vs. O2 vs. CO2)"
   ]
  },
  {
   "cell_type": "markdown",
   "metadata": {
    "id": "w3AVN3due6s0"
   },
   "source": [
    "**Goal:** build a 3-class classifier based on time-domain features."
   ]
  },
  {
   "cell_type": "markdown",
   "metadata": {
    "id": "Hpq3vi0Vr20d"
   },
   "source": [
    "**Import libraries**"
   ]
  },
  {
   "cell_type": "code",
   "execution_count": null,
   "metadata": {
    "id": "cjG89TTLre9V"
   },
   "outputs": [],
   "source": [
    "import matplotlib.pyplot as plt\n",
    "import numpy as np\n",
    "import pandas as pd\n",
    "from scipy.signal import find_peaks\n",
    "\n",
    "from utils import crop_signal, butter_lowpass_filter, compute_time_features"
   ]
  },
  {
   "cell_type": "markdown",
   "metadata": {
    "id": "s_VnUO5Qp3gQ"
   },
   "source": [
    "**Download data from dropbox**"
   ]
  },
  {
   "cell_type": "code",
   "execution_count": null,
   "metadata": {
    "id": "Ye3r9EAon2-N"
   },
   "outputs": [],
   "source": [
    "!wget -O  annotations.csv \"https://www.dropbox.com/s/6wk6ajpvry9rd7z/annotations.csv?dl=0\" --quiet\n",
    "!wget -O  time_series.csv \"https://www.dropbox.com/s/vnvz27bxkcojq0n/time_series.csv?dl=0\" --quiet"
   ]
  },
  {
   "cell_type": "markdown",
   "metadata": {
    "id": "StXRwOl0qCjs"
   },
   "source": [
    "**Load data**"
   ]
  },
  {
   "cell_type": "code",
   "execution_count": null,
   "metadata": {
    "id": "yRiffqm-qE0m"
   },
   "outputs": [],
   "source": [
    "## os.listdir()  # to check data downloaded correctly\n",
    "df_annot = pd.read_csv('annotations.csv')\n",
    "df_ts = pd.read_csv('time_series.csv')"
   ]
  },
  {
   "cell_type": "code",
   "execution_count": null,
   "metadata": {
    "id": "gfsPzEVC9i02"
   },
   "outputs": [],
   "source": [
    "# select respiratory signals only\n",
    "is_respiratory = df_annot['type']!='cardiac'\n",
    "\n",
    "TS = df_ts.iloc[:, is_respiratory.tolist()].T\n",
    "Y = df_annot['type'][is_respiratory]\n",
    "\n",
    "n_ts = np.count_nonzero(is_respiratory)\n",
    "ts = 1/df_annot['sampling_freq'][0]\n",
    "n_samp = df_ts.shape[0]"
   ]
  },
  {
   "cell_type": "markdown",
   "metadata": {
    "id": "b1UyWV63tXXH"
   },
   "source": [
    "**Processing pipeline (1 signal)**"
   ]
  },
  {
   "cell_type": "code",
   "execution_count": null,
   "metadata": {
    "colab": {
     "base_uri": "https://localhost:8080/",
     "height": 307
    },
    "executionInfo": {
     "elapsed": 1246,
     "status": "ok",
     "timestamp": 1637757681070,
     "user": {
      "displayName": "David Romero",
      "photoUrl": "https://lh3.googleusercontent.com/a-/AOh14GiLxy123yHPrTMwI_X-gOekpgqMH_0uej-OEU9pqA=s64",
      "userId": "12869306317798844181"
     },
     "user_tz": -60
    },
    "id": "Gq0kzirdtVuc",
    "outputId": "fc362633-bb33-4f08-a1b7-56d798ef5426"
   },
   "outputs": [],
   "source": [
    "i_ts = 1\n",
    "t = ts * np.arange(0,n_samp)\n",
    "s = TS.iloc[i_ts,:]\n",
    "\n",
    "# Crop signal\n",
    "tw, s_crop = crop_signal(t, s, 0, 100)\n",
    "\n",
    "# Normalization\n",
    "s_norm = (s_crop - np.min(s_crop))/(np.max(s_crop) - np.min(s_crop)) - 0.5\n",
    "\n",
    "# Smoothing (filtering) use frequency cutoffs from exploratory data analysis\n",
    "b, a = butter_lowpass(cutoff=1, fs=1/ts, order=5)\n",
    "s_filt = lfilter(b, a, s_norm)\n",
    "\n",
    "fig_signals()"
   ]
  },
  {
   "cell_type": "code",
   "execution_count": null,
   "metadata": {
    "colab": {
     "base_uri": "https://localhost:8080/",
     "height": 260
    },
    "executionInfo": {
     "elapsed": 968,
     "status": "ok",
     "timestamp": 1637757682029,
     "user": {
      "displayName": "David Romero",
      "photoUrl": "https://lh3.googleusercontent.com/a-/AOh14GiLxy123yHPrTMwI_X-gOekpgqMH_0uej-OEU9pqA=s64",
      "userId": "12869306317798844181"
     },
     "user_tz": -60
    },
    "id": "Krq3dEwSHD5h",
    "outputId": "7b985e8c-ee70-4f67-96a0-4994467b7d8d"
   },
   "outputs": [],
   "source": [
    "# Local maxima, minima location\n",
    "maxima, prop = find_peaks(s_filt, prominence = 0.2)\n",
    "minima, prop = find_peaks(-s_filt, prominence = 0.2)\n",
    "\n",
    "fig_min_max()"
   ]
  },
  {
   "cell_type": "code",
   "execution_count": null,
   "metadata": {
    "colab": {
     "base_uri": "https://localhost:8080/",
     "height": 398
    },
    "executionInfo": {
     "elapsed": 627,
     "status": "ok",
     "timestamp": 1637768880042,
     "user": {
      "displayName": "David Romero",
      "photoUrl": "https://lh3.googleusercontent.com/a-/AOh14GiLxy123yHPrTMwI_X-gOekpgqMH_0uej-OEU9pqA=s64",
      "userId": "12869306317798844181"
     },
     "user_tz": -60
    },
    "id": "uw8VbKGqRh1c",
    "outputId": "4e4903d4-39ec-4842-f24b-d9848bc97f17"
   },
   "outputs": [],
   "source": [
    "i_ts = 1\n",
    "t = ts * np.arange(0,n_samp)\n",
    "s = TS.iloc[i_ts,:]\n",
    "\n",
    "tw, s_crop = crop_signal(t, s, 0, 5)\n",
    "s_norm = (s_crop - np.min(s_crop))/(np.max(s_crop) - np.min(s_crop)) - 0.5\n",
    "b, a = butter_lowpass(cutoff=1, fs=1/ts, order=5)\n",
    "s_filt = lfilter(b, a, s_norm)\n",
    "maxima, _ = find_peaks(s_filt, prominence = 0.2)\n",
    "minima, _ = find_peaks(-s_filt, prominence = 0.2)\n",
    "\n",
    "fig_zoom_in(tw, minima, maxima, s_filt)"
   ]
  },
  {
   "cell_type": "code",
   "execution_count": null,
   "metadata": {
    "id": "BDOvtCdjr4lm"
   },
   "outputs": [],
   "source": [
    "x1,x2 = compute_time_features(tw, s_filt, minima, maxima)"
   ]
  },
  {
   "cell_type": "markdown",
   "metadata": {
    "id": "DXU4QGUHBNuJ"
   },
   "source": [
    "**Process all signals**"
   ]
  },
  {
   "cell_type": "code",
   "execution_count": null,
   "metadata": {
    "id": "HkvnyjWQBOFl"
   },
   "outputs": [],
   "source": [
    "X1 = np.empty(n_ts)\n",
    "X2 = np.empty(n_ts)\n",
    "n_min = np.empty(n_ts)\n",
    "n_max = np.empty(n_ts)\n",
    "\n",
    "for i, s in enumerate(TS.to_numpy()):\n",
    "  # Normalize\n",
    "  s = (s - np.min(s))/(np.max(s) - np.min(s)) - 0.5\n",
    "  \n",
    "  # Normalization\n",
    "  s_norm = (s - np.min(s))/(np.max(s) - np.min(s)) - 0.5\n",
    "\n",
    "  # Smoothing (filtering) use frequency cutoffs from exploratory data analysis\n",
    "  b, a = butter_lowpass(cutoff=1, fs=1/ts, order=5)\n",
    "  s_filt = lfilter(b, a, s_norm)\n",
    "\n",
    "  # Local minima/maxima location\n",
    "  maxima, _ = find_peaks(s_filt, prominence = 0.2)\n",
    "  minima, _ = find_peaks(-s_filt, prominence = 0.2)\n",
    "\n",
    "  n_max[i] = len(maxima)\n",
    "  n_min[i] = len(minima)\n",
    "\n",
    "  # Feature extraction\n",
    "  X1[i], X2[i] = compute_time_features(t, s, minima, maxima)\n",
    "  \n",
    "  # print(f'{i}/{n_ts}')"
   ]
  },
  {
   "cell_type": "markdown",
   "metadata": {
    "id": "j8aXK33cPun5"
   },
   "source": [
    "Check local minima and maxima were located in all signals"
   ]
  },
  {
   "cell_type": "code",
   "execution_count": null,
   "metadata": {
    "colab": {
     "base_uri": "https://localhost:8080/",
     "height": 255
    },
    "executionInfo": {
     "elapsed": 768,
     "status": "ok",
     "timestamp": 1637757693048,
     "user": {
      "displayName": "David Romero",
      "photoUrl": "https://lh3.googleusercontent.com/a-/AOh14GiLxy123yHPrTMwI_X-gOekpgqMH_0uej-OEU9pqA=s64",
      "userId": "12869306317798844181"
     },
     "user_tz": -60
    },
    "id": "lTm-S159RrmR",
    "outputId": "46eb11c8-843a-47e7-c841-a94aec73c61e"
   },
   "outputs": [],
   "source": [
    "fig, axs = plt.subplots(1, 4, figsize=(18,5))\n",
    "\n",
    "titles = ['n_min', 'n_max', 'X1', 'X2']\n",
    "for i, x in enumerate([n_min, n_max, X1, X2]):\n",
    "  axs[i].hist(x)\n",
    "  axs[i].grid()\n",
    "  axs[i].set_title(titles[i])"
   ]
  },
  {
   "cell_type": "markdown",
   "metadata": {
    "id": "Vt_PqMY1QDD5"
   },
   "source": [
    "Visualize the features"
   ]
  },
  {
   "cell_type": "code",
   "execution_count": null,
   "metadata": {
    "colab": {
     "base_uri": "https://localhost:8080/",
     "height": 518
    },
    "executionInfo": {
     "elapsed": 1292,
     "status": "ok",
     "timestamp": 1637758004834,
     "user": {
      "displayName": "David Romero",
      "photoUrl": "https://lh3.googleusercontent.com/a-/AOh14GiLxy123yHPrTMwI_X-gOekpgqMH_0uej-OEU9pqA=s64",
      "userId": "12869306317798844181"
     },
     "user_tz": -60
    },
    "id": "uWUDFcfG9eQ0",
    "outputId": "84acb84c-cf13-4e20-d5e7-0ed31288fac8"
   },
   "outputs": [],
   "source": [
    "fig, axs = plt.subplots(1, 1, figsize=(8,8))\n",
    "\n",
    "ts_types = ['chest', 'O2', 'CO2']\n",
    "for ts_type in ['respiratory_chest', 'respiratory_O2', 'respiratory_CO2']:\n",
    "  is_type = Y == ts_type\n",
    "  axs.scatter(X1[is_type], X2[is_type])\n",
    "axs.grid()\n",
    "axs.set_xlabel('X1', fontsize=14)\n",
    "axs.set_ylabel('X2', fontsize=14)\n",
    "axs.legend(ts_types, fontsize=18)"
   ]
  },
  {
   "cell_type": "markdown",
   "metadata": {
    "id": "EgPtvQDzuoSq"
   },
   "source": [
    "**Classification**"
   ]
  },
  {
   "cell_type": "code",
   "execution_count": null,
   "metadata": {
    "colab": {
     "base_uri": "https://localhost:8080/"
    },
    "executionInfo": {
     "elapsed": 233,
     "status": "ok",
     "timestamp": 1637759646502,
     "user": {
      "displayName": "David Romero",
      "photoUrl": "https://lh3.googleusercontent.com/a-/AOh14GiLxy123yHPrTMwI_X-gOekpgqMH_0uej-OEU9pqA=s64",
      "userId": "12869306317798844181"
     },
     "user_tz": -60
    },
    "id": "vobVu9oBurk3",
    "outputId": "0521e56f-525a-4a3a-c731-7368830e18e7"
   },
   "outputs": [],
   "source": [
    "# End model: logistic regression or decision tree\n",
    "from sklearn.model_selection import cross_val_score\n",
    "from sklearn.tree import DecisionTreeClassifier\n",
    "\n",
    "clf = DecisionTreeClassifier(random_state=0)\n",
    "X = np.column_stack((X1, X2))\n",
    "acc = np.round(100 * np.mean(cross_val_score(clf, X, Y, cv=10)), 1)\n",
    "print(f\"Mean accuracy: {acc}%\")"
   ]
  },
  {
   "cell_type": "code",
   "execution_count": null,
   "metadata": {
    "colab": {
     "base_uri": "https://localhost:8080/"
    },
    "executionInfo": {
     "elapsed": 795,
     "status": "ok",
     "timestamp": 1637758967379,
     "user": {
      "displayName": "David Romero",
      "photoUrl": "https://lh3.googleusercontent.com/a-/AOh14GiLxy123yHPrTMwI_X-gOekpgqMH_0uej-OEU9pqA=s64",
      "userId": "12869306317798844181"
     },
     "user_tz": -60
    },
    "id": "ipOZXR3E_lkB",
    "outputId": "b55d75a7-17c2-454a-cb8b-03ab4fa7c138"
   },
   "outputs": [],
   "source": [
    "from sklearn.tree import export_text\n",
    "clf.fit(X, Y)\n",
    "print(export_text(clf))"
   ]
  },
  {
   "cell_type": "markdown",
   "metadata": {
    "id": "RRMVJuadO9kI"
   },
   "source": [
    "Visualize the results"
   ]
  },
  {
   "cell_type": "code",
   "execution_count": null,
   "metadata": {
    "colab": {
     "base_uri": "https://localhost:8080/",
     "height": 507
    },
    "executionInfo": {
     "elapsed": 886,
     "status": "ok",
     "timestamp": 1637762290052,
     "user": {
      "displayName": "David Romero",
      "photoUrl": "https://lh3.googleusercontent.com/a-/AOh14GiLxy123yHPrTMwI_X-gOekpgqMH_0uej-OEU9pqA=s64",
      "userId": "12869306317798844181"
     },
     "user_tz": -60
    },
    "id": "IUKCk9-DCc57",
    "outputId": "27f8321a-6aa7-44bb-a5d0-c2a807be3134"
   },
   "outputs": [],
   "source": [
    "fig_classifier_results(X1,X2,Y,acc)"
   ]
  }
 ],
 "metadata": {
  "colab": {
   "name": "respiratory.ipynb",
   "provenance": []
  },
  "kernelspec": {
   "display_name": "Python 3",
   "language": "python",
   "name": "python3"
  },
  "language_info": {
   "codemirror_mode": {
    "name": "ipython",
    "version": 3
   },
   "file_extension": ".py",
   "mimetype": "text/x-python",
   "name": "python",
   "nbconvert_exporter": "python",
   "pygments_lexer": "ipython3",
   "version": "3.7.4"
  }
 },
 "nbformat": 4,
 "nbformat_minor": 1
}
